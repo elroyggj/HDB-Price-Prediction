{
 "cells": [
  {
   "cell_type": "code",
   "execution_count": 1,
   "metadata": {},
   "outputs": [],
   "source": [
    "import numpy as np\n",
    "import pandas as pd\n",
    "\n",
    "from datetime import datetime\n",
    "\n",
    "pd.options.display.max_columns = None\n",
    "\n",
    "resale_1990_csv = './datasets/resale-flat-prices-based-on-approval-date-1990-1999.csv'\n",
    "resale_2000_csv = './datasets/resale-flat-prices-based-on-approval-date-2000-feb-2012.csv'\n",
    "resale_2012_csv = './datasets/resale-flat-prices-based-on-registration-date-from-mar-2012-to-dec-2014.csv'\n",
    "resale_2015_csv = './datasets/resale-flat-prices-based-on-registration-date-from-jan-2015-onwards.csv'\n",
    "\n",
    "data_1990 = pd.read_csv(resale_1990_csv)\n",
    "data_2000 = pd.read_csv(resale_2000_csv)\n",
    "data_2012 = pd.read_csv(resale_2012_csv)\n",
    "data_2015 = pd.read_csv(resale_2015_csv)\n",
    "\n",
    "\n",
    "# Data on Longitude and Latitude of HDB Flats\n",
    "streets_lon_lat = pd.read_csv('./datasets/street_lon_lat.csv', index_col=0)\n",
    "streets_lon_lat.reset_index(inplace=True)\n",
    "streets_lon_lat.rename(columns={'index' : 'combined'}, inplace=True)\n",
    "\n",
    "# Distance from HDB to Stations, taking into consideration station operational year\n",
    "distance_to_station_month = pd.read_csv('./datasets/flat_station_distance_by_street_month.csv', index_col=0)\n",
    "\n",
    "# Distance from HDB to Primary/Secondary Schools\n",
    "flat_primary_distance = pd.read_csv('./datasets/flat_primary_distance.csv', index_col=0)\n",
    "flat_secondary_distance = pd.read_csv('./datasets/flat_secondary_distance.csv', index_col=0)\n",
    "flat_primary_distance.reset_index(inplace=True)\n",
    "flat_secondary_distance.reset_index(inplace=True)\n",
    "flat_primary_distance.rename(columns={'index' : 'combined'}, inplace=True)\n",
    "flat_secondary_distance.rename(columns={'index' : 'combined'}, inplace=True)\n",
    "\n",
    "# HDB Resale Price Index\n",
    "hdb_rpi = pd.read_csv('./datasets/HDB RPI.csv')"
   ]
  },
  {
   "cell_type": "code",
   "execution_count": 2,
   "metadata": {},
   "outputs": [
    {
     "data": {
      "text/plain": [
       "True"
      ]
     },
     "execution_count": 2,
     "metadata": {},
     "output_type": "execute_result"
    }
   ],
   "source": [
    "set(data_1990.columns) == set(data_2000.columns) == set(data_2012.columns)"
   ]
  },
  {
   "cell_type": "code",
   "execution_count": 3,
   "metadata": {},
   "outputs": [
    {
     "data": {
      "text/plain": [
       "['remaining_lease']"
      ]
     },
     "execution_count": 3,
     "metadata": {},
     "output_type": "execute_result"
    }
   ],
   "source": [
    "[col for col in data_2015.columns if col not in data_2012.columns]"
   ]
  },
  {
   "cell_type": "markdown",
   "metadata": {},
   "source": [
    "data_1990, data_2000 and data_2012 has the exact same features, but not data_2015. data_2015 has an additional feature - 'remaining_lease'. Since HDB flats have a lease term of 99 years, the same can be calculated for the other datasets by taking [99 - (year sold - year lease commenced)]."
   ]
  },
  {
   "cell_type": "markdown",
   "metadata": {},
   "source": [
    "## Steps to take:\n",
    "- Create 'remaining_lease' feature for data_1990, data_2000 and data_2012"
   ]
  },
  {
   "cell_type": "code",
   "execution_count": 2,
   "metadata": {},
   "outputs": [
    {
     "name": "stdout",
     "output_type": "stream",
     "text": [
      "Shape of merged Dataset:\t(785798, 13)\n"
     ]
    }
   ],
   "source": [
    "lease_col_loc = list(data_2015.columns).index('remaining_lease')\n",
    "\n",
    "data_1990.insert(loc=lease_col_loc, column='remaining_lease', value=99 - (pd.to_datetime(data_1990['month']).apply(lambda x: x.year) - data_1990['lease_commence_date']))\n",
    "data_2000.insert(loc=lease_col_loc, column='remaining_lease', value=99 - (pd.to_datetime(data_2000['month']).apply(lambda x: x.year) - data_2000['lease_commence_date']))\n",
    "data_2012.insert(loc=lease_col_loc, column='remaining_lease', value=99 - (pd.to_datetime(data_2012['month']).apply(lambda x: x.year) - data_2012['lease_commence_date']))\n",
    "\n",
    "all_data = data_1990.append(data_2000, ignore_index=True).append(data_2012, ignore_index=True).append(data_2015, ignore_index=True)\n",
    "all_data.replace({'MULTI GENERATION' : 'MULTI-GENERATION'}, inplace=True)\n",
    "\n",
    "all_data['month_sold'] = pd.to_datetime(all_data['month']).apply(lambda x: x.month).astype(str)\n",
    "all_data['year_sold'] = pd.to_datetime(all_data['month']).apply(lambda x: x.year).astype(str)\n",
    "\n",
    "print('Shape of merged Dataset:\\t{}'.format(all_data.shape))"
   ]
  },
  {
   "cell_type": "code",
   "execution_count": 5,
   "metadata": {},
   "outputs": [],
   "source": [
    "all_data['combined'] = all_data['street_name'] + ' BLK ' + all_data['block']\n",
    "all_data = all_data.merge(streets_lon_lat, how='left', on='combined').merge(distance_to_station_month, how='left', on=['month', 'combined'])\n",
    "all_data = all_data.merge(flat_primary_distance[['combined', 'Primary School', 'Primary Distance']], how='left', on='combined').merge(flat_secondary_distance[['combined', 'Secondary School', 'Secondary Distance']], how='left', on='combined')\n",
    "\n",
    "hdb_rpi['Deflator'] = hdb_rpi['index'].apply(lambda x: hdb_rpi.loc[hdb_rpi.index[-1], 'index']/x)\n",
    "\n",
    "all_data['quarter'] = all_data['year_sold'].astype(str) + '-' + all_data['month_sold'].apply(lambda x: 'Q1' if int(x) <= 3 else ('Q2' if int(x) <= 6 else ('Q3' if int(x) <= 9 else 'Q4'))).astype(str)\n",
    "all_data = all_data.merge(hdb_rpi[['quarter', 'Deflator']], how='left', on='quarter')\n",
    "all_data['Deflated Resale Price'] = all_data['resale_price'] * all_data['Deflator']\n",
    "all_data.drop(columns=['combined', 'quarter', 'Deflator'], inplace=True)\n",
    "\n",
    "all_data['Primary Distance Categorised'] = all_data['Primary Distance'].apply(lambda x: '<= 100m' if x <= 100 else ('101m - 200m' if x <= 200 else ('201m - 300m' if x <= 300 else ('301 - 400m' if x <= 400 else ('401m - 500m' if x <= 500 else '> 500m')))))\n",
    "all_data['Secondary Distance Categorised'] = all_data['Secondary Distance'].apply(lambda x: '<= 100m' if x <= 100 else ('101m - 200m' if x <= 200 else ('201m - 300m' if x <= 300 else ('301 - 400m' if x <= 400 else ('401m - 500m' if x <= 500 else '> 500m')))))\n",
    "\n",
    "all_data.columns = [col.replace('_',' ').title() for col in all_data.columns]\n",
    "\n",
    "all_data['Flat Model'] = all_data['Flat Model'].apply(lambda x: x.upper().replace('.','').replace('-',' '))"
   ]
  },
  {
   "cell_type": "markdown",
   "metadata": {},
   "source": [
    "Storey Range for HDB sold between March and May 2012 seems to follow a different scale (i.e. in step size of 5 levels - 01 TO 05, instead of the usual 3 level step size - 01 TO 03). It is difficult to merge them together on the same scale unless the stories are categorised based on common multiples, such as 01 TO 15, 16 TO 30, etc. However this would likely cause the feature to lose precious information and thus we would just drop sales between March and May 2012 (0.87% of all data).\n",
    "\n",
    "Furthermore, as the HDB RPI ends on 2018 Q3, deflated resale prices are unavailable for sales after that (2018 Q4 data makes up 0.2% of all data). Therefore, these will be dropped as well."
   ]
  },
  {
   "cell_type": "code",
   "execution_count": 6,
   "metadata": {},
   "outputs": [
    {
     "data": {
      "text/plain": [
       "01 TO 05    2700\n",
       "06 TO 10    2474\n",
       "11 TO 15    1259\n",
       "16 TO 20     265\n",
       "21 TO 25      92\n",
       "26 TO 30      39\n",
       "31 TO 35       2\n",
       "36 TO 40       7\n",
       "Name: Storey Range, dtype: int64"
      ]
     },
     "execution_count": 6,
     "metadata": {},
     "output_type": "execute_result"
    }
   ],
   "source": [
    "all_data[all_data['Month'].isin(['2012-03', '2012-04', '2012-05'])]['Storey Range'].value_counts().sort_index()"
   ]
  },
  {
   "cell_type": "code",
   "execution_count": 7,
   "metadata": {},
   "outputs": [
    {
     "data": {
      "text/plain": [
       "01 TO 03    161500\n",
       "04 TO 06    200071\n",
       "07 TO 09    180656\n",
       "10 TO 12    152762\n",
       "13 TO 15     48385\n",
       "16 TO 18     17602\n",
       "19 TO 21      8668\n",
       "22 TO 24      5497\n",
       "25 TO 27      2235\n",
       "28 TO 30       869\n",
       "31 TO 33       193\n",
       "34 TO 36       202\n",
       "37 TO 39       191\n",
       "40 TO 42        95\n",
       "43 TO 45        12\n",
       "46 TO 48        15\n",
       "49 TO 51         7\n",
       "Name: Storey Range, dtype: int64"
      ]
     },
     "execution_count": 7,
     "metadata": {},
     "output_type": "execute_result"
    }
   ],
   "source": [
    "all_data[~all_data['Month'].isin(['2012-03', '2012-04', '2012-05'])]['Storey Range'].value_counts().sort_index()"
   ]
  },
  {
   "cell_type": "code",
   "execution_count": 8,
   "metadata": {},
   "outputs": [
    {
     "name": "stdout",
     "output_type": "stream",
     "text": [
      "Observations between March and May 2012 makes up 0.87% of the entire dataset.\n"
     ]
    }
   ],
   "source": [
    "print('Observations between March and May 2012 makes up {}% of the entire dataset.'.format(round(all_data[all_data['Month'].isin(['2012-03', '2012-04', '2012-05'])].count()['Month'] / all_data.shape[0] * 100, 2)))"
   ]
  },
  {
   "cell_type": "code",
   "execution_count": 9,
   "metadata": {},
   "outputs": [
    {
     "data": {
      "text/plain": [
       "Month                                0\n",
       "Town                                 0\n",
       "Flat Type                            0\n",
       "Block                                0\n",
       "Street Name                          0\n",
       "Storey Range                         0\n",
       "Floor Area Sqm                       0\n",
       "Flat Model                           0\n",
       "Lease Commence Date                  0\n",
       "Remaining Lease                      0\n",
       "Resale Price                         0\n",
       "Month Sold                           0\n",
       "Year Sold                            0\n",
       "Latitude                             0\n",
       "Longitude                            0\n",
       "Distance To Nearest Station          0\n",
       "No. Of Stations Within 500M          0\n",
       "Primary School                       0\n",
       "Primary Distance                     0\n",
       "Secondary School                     0\n",
       "Secondary Distance                   0\n",
       "Deflated Resale Price             2000\n",
       "Primary Distance Categorised         0\n",
       "Secondary Distance Categorised       0\n",
       "dtype: int64"
      ]
     },
     "execution_count": 9,
     "metadata": {},
     "output_type": "execute_result"
    }
   ],
   "source": [
    "all_data.isna().sum()"
   ]
  },
  {
   "cell_type": "code",
   "execution_count": 10,
   "metadata": {},
   "outputs": [
    {
     "name": "stdout",
     "output_type": "stream",
     "text": [
      "Observations after 2018 Q3 makes up 0.25% of all data.\n"
     ]
    }
   ],
   "source": [
    "print('Observations after 2018 Q3 makes up {}% of all data.'.format(round(all_data[all_data['Month'] == '2018-10'].count()['Month'] / all_data.shape[0] * 100, 2)))"
   ]
  },
  {
   "cell_type": "markdown",
   "metadata": {},
   "source": [
    "## Dropping these observations"
   ]
  },
  {
   "cell_type": "code",
   "execution_count": 11,
   "metadata": {},
   "outputs": [],
   "source": [
    "all_data.drop(index=all_data[all_data['Month'].isin(['2012-03', '2012-04', '2012-05'])].index, inplace=True)\n",
    "all_data.dropna(inplace=True)\n",
    "all_data.reset_index(inplace=True, drop=True)\n",
    "all_data = all_data.reindex(columns=['Month', 'Month Sold', 'Year Sold', 'Town', 'Flat Type', 'Flat Model', 'Block', 'Street Name', 'Longitude', 'Latitude', 'Storey Range', 'Floor Area Sqm', 'Lease Commence Date', 'Remaining Lease', 'Distance To Nearest Station', 'No. Of Stations Within 500M', 'Primary School', 'Primary Distance', 'Primary Distance Categorised', 'Secondary School', 'Secondary Distance', 'Secondary Distance Categorised', 'Resale Price', 'Deflated Resale Price'])"
   ]
  },
  {
   "cell_type": "code",
   "execution_count": 14,
   "metadata": {},
   "outputs": [],
   "source": [
    "midpoint = int(all_data.shape[0] / 2)\n",
    "\n",
    "all_data.loc[all_data.index[:midpoint], :].to_csv('./datasets/merged_dataset_part1.csv')\n",
    "all_data.loc[all_data.index[midpoint:], :].to_csv('./datasets/merged_dataset_part2.csv')"
   ]
  },
  {
   "cell_type": "markdown",
   "metadata": {},
   "source": [
    "## Final Dataset"
   ]
  },
  {
   "cell_type": "code",
   "execution_count": 15,
   "metadata": {
    "scrolled": true
   },
   "outputs": [
    {
     "data": {
      "text/html": [
       "<div>\n",
       "<style scoped>\n",
       "    .dataframe tbody tr th:only-of-type {\n",
       "        vertical-align: middle;\n",
       "    }\n",
       "\n",
       "    .dataframe tbody tr th {\n",
       "        vertical-align: top;\n",
       "    }\n",
       "\n",
       "    .dataframe thead th {\n",
       "        text-align: right;\n",
       "    }\n",
       "</style>\n",
       "<table border=\"1\" class=\"dataframe\">\n",
       "  <thead>\n",
       "    <tr style=\"text-align: right;\">\n",
       "      <th></th>\n",
       "      <th>Month</th>\n",
       "      <th>Month Sold</th>\n",
       "      <th>Year Sold</th>\n",
       "      <th>Town</th>\n",
       "      <th>Flat Type</th>\n",
       "      <th>Flat Model</th>\n",
       "      <th>Block</th>\n",
       "      <th>Street Name</th>\n",
       "      <th>Longitude</th>\n",
       "      <th>Latitude</th>\n",
       "      <th>Storey Range</th>\n",
       "      <th>Floor Area Sqm</th>\n",
       "      <th>Lease Commence Date</th>\n",
       "      <th>Remaining Lease</th>\n",
       "      <th>Distance To Nearest Station</th>\n",
       "      <th>No. Of Stations Within 500M</th>\n",
       "      <th>Primary School</th>\n",
       "      <th>Primary Distance</th>\n",
       "      <th>Primary Distance Categorised</th>\n",
       "      <th>Secondary School</th>\n",
       "      <th>Secondary Distance</th>\n",
       "      <th>Secondary Distance Categorised</th>\n",
       "      <th>Resale Price</th>\n",
       "      <th>Deflated Resale Price</th>\n",
       "    </tr>\n",
       "  </thead>\n",
       "  <tbody>\n",
       "    <tr>\n",
       "      <th>0</th>\n",
       "      <td>1990-01</td>\n",
       "      <td>1</td>\n",
       "      <td>1990</td>\n",
       "      <td>ANG MO KIO</td>\n",
       "      <td>1 ROOM</td>\n",
       "      <td>IMPROVED</td>\n",
       "      <td>309</td>\n",
       "      <td>ANG MO KIO AVE 1</td>\n",
       "      <td>103.84411</td>\n",
       "      <td>1.364329</td>\n",
       "      <td>10 TO 12</td>\n",
       "      <td>31.0</td>\n",
       "      <td>1977</td>\n",
       "      <td>86</td>\n",
       "      <td>&gt; 500m</td>\n",
       "      <td>0</td>\n",
       "      <td>TECK GHEE PRIMARY SCHOOL</td>\n",
       "      <td>722.787614</td>\n",
       "      <td>&gt; 500m</td>\n",
       "      <td>ANG MO KIO SECONDARY SCHOOL</td>\n",
       "      <td>375.846945</td>\n",
       "      <td>301 - 400m</td>\n",
       "      <td>9000.0</td>\n",
       "      <td>48740.740741</td>\n",
       "    </tr>\n",
       "    <tr>\n",
       "      <th>1</th>\n",
       "      <td>1990-01</td>\n",
       "      <td>1</td>\n",
       "      <td>1990</td>\n",
       "      <td>ANG MO KIO</td>\n",
       "      <td>1 ROOM</td>\n",
       "      <td>IMPROVED</td>\n",
       "      <td>309</td>\n",
       "      <td>ANG MO KIO AVE 1</td>\n",
       "      <td>103.84411</td>\n",
       "      <td>1.364329</td>\n",
       "      <td>04 TO 06</td>\n",
       "      <td>31.0</td>\n",
       "      <td>1977</td>\n",
       "      <td>86</td>\n",
       "      <td>&gt; 500m</td>\n",
       "      <td>0</td>\n",
       "      <td>TECK GHEE PRIMARY SCHOOL</td>\n",
       "      <td>722.787614</td>\n",
       "      <td>&gt; 500m</td>\n",
       "      <td>ANG MO KIO SECONDARY SCHOOL</td>\n",
       "      <td>375.846945</td>\n",
       "      <td>301 - 400m</td>\n",
       "      <td>6000.0</td>\n",
       "      <td>32493.827160</td>\n",
       "    </tr>\n",
       "  </tbody>\n",
       "</table>\n",
       "</div>"
      ],
      "text/plain": [
       "     Month Month Sold Year Sold        Town Flat Type Flat Model Block  \\\n",
       "0  1990-01          1      1990  ANG MO KIO    1 ROOM   IMPROVED   309   \n",
       "1  1990-01          1      1990  ANG MO KIO    1 ROOM   IMPROVED   309   \n",
       "\n",
       "        Street Name  Longitude  Latitude Storey Range  Floor Area Sqm  \\\n",
       "0  ANG MO KIO AVE 1  103.84411  1.364329     10 TO 12            31.0   \n",
       "1  ANG MO KIO AVE 1  103.84411  1.364329     04 TO 06            31.0   \n",
       "\n",
       "   Lease Commence Date  Remaining Lease Distance To Nearest Station  \\\n",
       "0                 1977               86                      > 500m   \n",
       "1                 1977               86                      > 500m   \n",
       "\n",
       "   No. Of Stations Within 500M            Primary School  Primary Distance  \\\n",
       "0                            0  TECK GHEE PRIMARY SCHOOL        722.787614   \n",
       "1                            0  TECK GHEE PRIMARY SCHOOL        722.787614   \n",
       "\n",
       "  Primary Distance Categorised             Secondary School  \\\n",
       "0                       > 500m  ANG MO KIO SECONDARY SCHOOL   \n",
       "1                       > 500m  ANG MO KIO SECONDARY SCHOOL   \n",
       "\n",
       "   Secondary Distance Secondary Distance Categorised  Resale Price  \\\n",
       "0          375.846945                     301 - 400m        9000.0   \n",
       "1          375.846945                     301 - 400m        6000.0   \n",
       "\n",
       "   Deflated Resale Price  \n",
       "0           48740.740741  \n",
       "1           32493.827160  "
      ]
     },
     "execution_count": 15,
     "metadata": {},
     "output_type": "execute_result"
    }
   ],
   "source": [
    "all_data.head(2)"
   ]
  }
 ],
 "metadata": {
  "kernelspec": {
   "display_name": "Python 3",
   "language": "python",
   "name": "python3"
  },
  "language_info": {
   "codemirror_mode": {
    "name": "ipython",
    "version": 3
   },
   "file_extension": ".py",
   "mimetype": "text/x-python",
   "name": "python",
   "nbconvert_exporter": "python",
   "pygments_lexer": "ipython3",
   "version": "3.6.7"
  }
 },
 "nbformat": 4,
 "nbformat_minor": 2
}
